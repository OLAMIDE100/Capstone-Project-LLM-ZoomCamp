{
 "cells": [
  {
   "cell_type": "code",
   "execution_count": 36,
   "metadata": {},
   "outputs": [],
   "source": [
    "import json\n",
    "from elasticsearch import Elasticsearch\n",
    "import pandas as pd\n",
    "import minsearch\n",
    "from tqdm.auto  import tqdm\n",
    "import random"
   ]
  },
  {
   "cell_type": "code",
   "execution_count": 2,
   "metadata": {},
   "outputs": [
    {
     "data": {
      "text/plain": [
       "{'Service_Category': 'Security & identity',\n",
       " 'Service_Type': 'Zero trust & secure enterprise browser',\n",
       " 'Link_to_Documentation': 'https://chromeenterprise.google/products/chrome-enterprise-premium/',\n",
       " 'Google_Cloud_Product': 'Chrome Enterprise Premium',\n",
       " 'Google_Cloud_Product_Description': 'Enable secure access to critical applications and services, with integrated threat and data protection.',\n",
       " 'AWS_Offering': '',\n",
       " 'Azure_Offering': '',\n",
       " 'Id': '40b23873859451847af0143acb81838c'}"
      ]
     },
     "execution_count": 2,
     "metadata": {},
     "output_type": "execute_result"
    }
   ],
   "source": [
    "with open(\"../data/documents_id.json\",\"r\") as d_in:\n",
    "    documents = json.load(d_in)\n",
    "\n",
    "documents[0]"
   ]
  },
  {
   "cell_type": "code",
   "execution_count": 3,
   "metadata": {},
   "outputs": [
    {
     "data": {
      "text/plain": [
       "<minsearch.Index at 0x17a6ab710>"
      ]
     },
     "execution_count": 3,
     "metadata": {},
     "output_type": "execute_result"
    }
   ],
   "source": [
    "text_fields = [\"Service_Category\", \"Service_Type\", \"Link_to_Documentation\", \"Google_Cloud_Product\", \"Google_Cloud_Product_Description\", \"AWS_Offering\", \"Azure_Offering\"]\n",
    "\n",
    "index = minsearch.Index(\n",
    "        text_fields=text_fields,\n",
    "        keyword_fields=['Id']\n",
    "        )\n",
    "\n",
    "\n",
    "index.fit(documents)"
   ]
  },
  {
   "cell_type": "code",
   "execution_count": 4,
   "metadata": {},
   "outputs": [
    {
     "data": {
      "text/plain": [
       "ObjectApiResponse({'name': '699e94d444a1', 'cluster_name': 'docker-cluster', 'cluster_uuid': '4No4U7IcRFSxM5CuiGnr_g', 'version': {'number': '8.4.3', 'build_flavor': 'default', 'build_type': 'docker', 'build_hash': '42f05b9372a9a4a470db3b52817899b99a76ee73', 'build_date': '2022-10-04T07:17:24.662462378Z', 'build_snapshot': False, 'lucene_version': '9.3.0', 'minimum_wire_compatibility_version': '7.17.0', 'minimum_index_compatibility_version': '7.0.0'}, 'tagline': 'You Know, for Search'})"
      ]
     },
     "execution_count": 4,
     "metadata": {},
     "output_type": "execute_result"
    }
   ],
   "source": [
    "e_client = Elasticsearch('http://localhost:9200')\n",
    "\n",
    "e_client.info()"
   ]
  },
  {
   "cell_type": "code",
   "execution_count": 5,
   "metadata": {},
   "outputs": [],
   "source": [
    "index_name =  \"cloud-comparative-guide\""
   ]
  },
  {
   "cell_type": "code",
   "execution_count": 6,
   "metadata": {},
   "outputs": [],
   "source": [
    "def search(search_engine,query,boost={}):\n",
    "\n",
    "    if search_engine == 'minisearch':\n",
    "\n",
    "        results = index.search(\n",
    "            query=query,\n",
    "            filter_dict={},\n",
    "            boost_dict=boost,\n",
    "            num_results=5\n",
    "        )\n",
    "\n",
    "        return results\n",
    "    \n",
    "    elif search_engine == 'elastic_search':\n",
    "\n",
    "        search_query = {\n",
    "        \"size\": 5,\n",
    "        \"query\": {\n",
    "                \"multi_match\": {\n",
    "                    \"query\": query,\n",
    "                    \"fields\": [\"Google_Cloud_Product^7\",\"Google_Cloud_Product_Description^3\",\"Service_Type\"],\n",
    "                }\n",
    "                },\n",
    "        }\n",
    "        \n",
    "        a_res = e_client.search(index=index_name, body=search_query,source=[\"Service_Type\",\"Link_to_Documentation\",\"Google_Cloud_Product\",\"Google_Cloud_Product_Description\",\"AWS_Offering\",'Azure_Offering','Id'])\n",
    "\n",
    "        result_docs = []\n",
    "\n",
    "        for hit in a_res[\"hits\"][\"hits\"]:\n",
    "            result_docs.append(hit['_source'])\n",
    "\n",
    "        return result_docs\n",
    "    \n",
    "    else:\n",
    "        return \"please pass the appropriate search engine\""
   ]
  },
  {
   "cell_type": "code",
   "execution_count": 10,
   "metadata": {},
   "outputs": [],
   "source": [
    "df_ground_truth = pd.read_csv('../data/ground-truth-data.csv')\n",
    "ground_truth = df_ground_truth.to_dict(orient='records')"
   ]
  },
  {
   "cell_type": "code",
   "execution_count": 21,
   "metadata": {},
   "outputs": [
    {
     "data": {
      "text/plain": [
       "{'question': 'What are the key differences in the zero trust security features between Chrome Enterprise Premium and similar offerings from AWS and Azure?',\n",
       " 'Google_Cloud_Product': 'Chrome Enterprise Premium',\n",
       " 'document_id': '40b23873859451847af0143acb81838c'}"
      ]
     },
     "execution_count": 21,
     "metadata": {},
     "output_type": "execute_result"
    }
   ],
   "source": [
    "ground_truth[0]"
   ]
  },
  {
   "cell_type": "code",
   "execution_count": 12,
   "metadata": {},
   "outputs": [],
   "source": [
    "def hit_rate(relevance_total):\n",
    "    cnt = 0\n",
    "\n",
    "    for line in relevance_total:\n",
    "        if True in line:\n",
    "            cnt = cnt + 1\n",
    "\n",
    "    return cnt / len(relevance_total)\n",
    "\n",
    "def mrr(relevance_total):\n",
    "    total_score = 0.0\n",
    "\n",
    "    for line in relevance_total:\n",
    "        for rank in range(len(line)):\n",
    "            if line[rank] == True:\n",
    "                total_score = total_score + 1 / (rank + 1)\n",
    "\n",
    "    return total_score / len(relevance_total)"
   ]
  },
  {
   "cell_type": "code",
   "execution_count": 47,
   "metadata": {},
   "outputs": [],
   "source": [
    "def evaluate(ground_truth, search_function):\n",
    "    relevance_total = []\n",
    "\n",
    "    for q in tqdm(ground_truth):\n",
    "        doc_id = q['document_id']\n",
    "        results = search_function(q)\n",
    "        relevance = [d['Id'] == doc_id for d in results]\n",
    "        relevance_total.append(relevance)\n",
    "\n",
    "    return {\n",
    "        f'hit_rate': hit_rate(relevance_total),\n",
    "        'mrr': mrr(relevance_total),\n",
    "    }"
   ]
  },
  {
   "cell_type": "code",
   "execution_count": 48,
   "metadata": {},
   "outputs": [
    {
     "name": "stderr",
     "output_type": "stream",
     "text": [
      "100%|██████████| 1101/1101 [00:02<00:00, 516.68it/s]\n"
     ]
    },
    {
     "data": {
      "text/plain": [
       "{'hit_rate': 0.8937329700272479, 'mrr': 0.7556161065697862}"
      ]
     },
     "execution_count": 48,
     "metadata": {},
     "output_type": "execute_result"
    }
   ],
   "source": [
    "results = evaluate(ground_truth, lambda q: search('minisearch',q['question']))\n",
    "results"
   ]
  },
  {
   "cell_type": "code",
   "execution_count": 49,
   "metadata": {},
   "outputs": [
    {
     "name": "stderr",
     "output_type": "stream",
     "text": [
      "  0%|          | 0/1101 [00:00<?, ?it/s]/var/folders/7y/s3kmp4m92dx3v5vx5mf7csgh0000gn/T/ipykernel_48956/995956345.py:26: DeprecationWarning: Received 'source' via a specific parameter in the presence of a 'body' parameter, which is deprecated and will be removed in a future version. Instead, use only 'body' or only specific parameters.\n",
      "  a_res = e_client.search(index=index_name, body=search_query,source=[\"Service_Type\",\"Link_to_Documentation\",\"Google_Cloud_Product\",\"Google_Cloud_Product_Description\",\"AWS_Offering\",'Azure_Offering','Id'])\n",
      "100%|██████████| 1101/1101 [00:15<00:00, 70.39it/s]\n"
     ]
    },
    {
     "data": {
      "text/plain": [
       "{'hit_rate': 0.8664850136239782, 'mrr': 0.7556917953375724}"
      ]
     },
     "execution_count": 49,
     "metadata": {},
     "output_type": "execute_result"
    }
   ],
   "source": [
    "results = evaluate(ground_truth, lambda q: search('elastic_search',q['question']))\n",
    "results"
   ]
  },
  {
   "cell_type": "code",
   "execution_count": 50,
   "metadata": {},
   "outputs": [],
   "source": [
    "df_validation = df_ground_truth[:100]\n",
    "df_test = df_ground_truth[100:]"
   ]
  },
  {
   "cell_type": "code",
   "execution_count": 51,
   "metadata": {},
   "outputs": [],
   "source": [
    "def simple_optimize(param_ranges, objective_function, n_iterations=10):\n",
    "    best_params = None\n",
    "    best_score = float('-inf')  # Assuming we're minimizing. Use float('-inf') if maximizing.\n",
    "\n",
    "    for _ in range(n_iterations):\n",
    "        # Generate random parameters\n",
    "        current_params = {}\n",
    "        for param, (min_val, max_val) in param_ranges.items():\n",
    "            if isinstance(min_val, int) and isinstance(max_val, int):\n",
    "                current_params[param] = random.randint(min_val, max_val)\n",
    "            else:\n",
    "                current_params[param] = random.uniform(min_val, max_val)\n",
    "        \n",
    "        # Evaluate the objective function\n",
    "        current_score = objective_function(current_params)\n",
    "        \n",
    "        # Update best if current is better\n",
    "        if current_score > best_score:  # Change to > if maximizing\n",
    "            best_score = current_score\n",
    "            best_params = current_params\n",
    "    \n",
    "    return best_params, best_score"
   ]
  },
  {
   "cell_type": "code",
   "execution_count": 52,
   "metadata": {},
   "outputs": [],
   "source": [
    "gt_val = df_validation.to_dict(orient='records')"
   ]
  },
  {
   "cell_type": "code",
   "execution_count": 53,
   "metadata": {},
   "outputs": [],
   "source": [
    "param_ranges = {\n",
    "    'Service_Category': (0.0, 3.0),\n",
    "    'Service_Type': (0.0, 3.0),\n",
    "    'Link_to_Documentation': (0.0, 3.0),\n",
    "    'Google_Cloud_Product': (0.0, 3.0),\n",
    "    'Google_Cloud_Product_Description': (0.0, 3.0),\n",
    "    'AWS_Offering': (0.0, 3.0),\n",
    "    'Azure_Offering': (0.0, 3.0),\n",
    "}\n",
    "\n",
    "def objective(boost_params):\n",
    "    def search_function(q):\n",
    "        return search('minisearch',q['question'], boost_params)\n",
    "\n",
    "    results = evaluate(gt_val, search_function)\n",
    "    return results['mrr']"
   ]
  },
  {
   "cell_type": "code",
   "execution_count": 54,
   "metadata": {},
   "outputs": [
    {
     "name": "stderr",
     "output_type": "stream",
     "text": [
      "100%|██████████| 100/100 [00:00<00:00, 485.99it/s]\n",
      "100%|██████████| 100/100 [00:00<00:00, 509.24it/s]\n",
      "100%|██████████| 100/100 [00:00<00:00, 506.98it/s]\n",
      "100%|██████████| 100/100 [00:00<00:00, 477.57it/s]\n",
      "100%|██████████| 100/100 [00:00<00:00, 473.32it/s]\n",
      "100%|██████████| 100/100 [00:00<00:00, 487.17it/s]\n",
      "100%|██████████| 100/100 [00:00<00:00, 488.66it/s]\n",
      "100%|██████████| 100/100 [00:00<00:00, 522.31it/s]\n",
      "100%|██████████| 100/100 [00:00<00:00, 511.44it/s]\n",
      "100%|██████████| 100/100 [00:00<00:00, 522.04it/s]\n",
      "100%|██████████| 100/100 [00:00<00:00, 516.05it/s]\n",
      "100%|██████████| 100/100 [00:00<00:00, 524.70it/s]\n",
      "100%|██████████| 100/100 [00:00<00:00, 509.98it/s]\n",
      "100%|██████████| 100/100 [00:00<00:00, 498.56it/s]\n",
      "100%|██████████| 100/100 [00:00<00:00, 510.94it/s]\n",
      "100%|██████████| 100/100 [00:00<00:00, 519.72it/s]\n",
      "100%|██████████| 100/100 [00:00<00:00, 521.82it/s]\n",
      "100%|██████████| 100/100 [00:00<00:00, 514.28it/s]\n",
      "100%|██████████| 100/100 [00:00<00:00, 505.37it/s]\n",
      "100%|██████████| 100/100 [00:00<00:00, 502.09it/s]\n"
     ]
    },
    {
     "data": {
      "text/plain": [
       "({'Service_Category': 0.10638495651755087,\n",
       "  'Service_Type': 1.269946147222612,\n",
       "  'Link_to_Documentation': 1.5531045466189122,\n",
       "  'Google_Cloud_Product': 1.3250028735372683,\n",
       "  'Google_Cloud_Product_Description': 1.9395345731534959,\n",
       "  'AWS_Offering': 2.067143729150134,\n",
       "  'Azure_Offering': 0.799844469488588},\n",
       " 0.9041666666666666)"
      ]
     },
     "execution_count": 54,
     "metadata": {},
     "output_type": "execute_result"
    }
   ],
   "source": [
    "simple_optimize(param_ranges, objective, n_iterations=20)"
   ]
  },
  {
   "cell_type": "code",
   "execution_count": 56,
   "metadata": {},
   "outputs": [],
   "source": [
    "best_boost = {'Service_Category': 0.10638495651755087,\n",
    "  'Service_Type': 1.269946147222612,\n",
    "  'Link_to_Documentation': 1.5531045466189122,\n",
    "  'Google_Cloud_Product': 1.3250028735372683,\n",
    "  'Google_Cloud_Product_Description': 1.9395345731534959,\n",
    "  'AWS_Offering': 2.067143729150134,\n",
    "  'Azure_Offering': 0.799844469488588}"
   ]
  },
  {
   "cell_type": "code",
   "execution_count": 57,
   "metadata": {},
   "outputs": [
    {
     "name": "stderr",
     "output_type": "stream",
     "text": [
      "100%|██████████| 1101/1101 [00:02<00:00, 517.50it/s]\n"
     ]
    },
    {
     "data": {
      "text/plain": [
       "{'hit_rate': 0.9291553133514986, 'mrr': 0.8166969421737824}"
      ]
     },
     "execution_count": 57,
     "metadata": {},
     "output_type": "execute_result"
    }
   ],
   "source": [
    "evaluate(ground_truth, lambda q: search('minisearch',q['question'],best_boost))"
   ]
  },
  {
   "cell_type": "code",
   "execution_count": null,
   "metadata": {},
   "outputs": [],
   "source": []
  },
  {
   "cell_type": "code",
   "execution_count": null,
   "metadata": {},
   "outputs": [],
   "source": []
  },
  {
   "cell_type": "code",
   "execution_count": null,
   "metadata": {},
   "outputs": [],
   "source": []
  }
 ],
 "metadata": {
  "kernelspec": {
   "display_name": "llm_project_env",
   "language": "python",
   "name": "python3"
  },
  "language_info": {
   "codemirror_mode": {
    "name": "ipython",
    "version": 3
   },
   "file_extension": ".py",
   "mimetype": "text/x-python",
   "name": "python",
   "nbconvert_exporter": "python",
   "pygments_lexer": "ipython3",
   "version": "3.11.7"
  }
 },
 "nbformat": 4,
 "nbformat_minor": 2
}
