{
 "cells": [
  {
   "cell_type": "code",
   "execution_count": 2,
   "metadata": {},
   "outputs": [],
   "source": [
    "import json\n",
    "from elasticsearch import Elasticsearch\n",
    "import pandas as pd\n",
    "from tqdm.auto  import tqdm\n",
    "from sentence_transformers import SentenceTransformer"
   ]
  },
  {
   "cell_type": "code",
   "execution_count": 3,
   "metadata": {},
   "outputs": [],
   "source": [
    "embedded_model = SentenceTransformer(\"all-mpnet-base-v2\")"
   ]
  },
  {
   "cell_type": "code",
   "execution_count": 4,
   "metadata": {},
   "outputs": [
    {
     "data": {
      "text/plain": [
       "ObjectApiResponse({'name': '699e94d444a1', 'cluster_name': 'docker-cluster', 'cluster_uuid': '4No4U7IcRFSxM5CuiGnr_g', 'version': {'number': '8.4.3', 'build_flavor': 'default', 'build_type': 'docker', 'build_hash': '42f05b9372a9a4a470db3b52817899b99a76ee73', 'build_date': '2022-10-04T07:17:24.662462378Z', 'build_snapshot': False, 'lucene_version': '9.3.0', 'minimum_wire_compatibility_version': '7.17.0', 'minimum_index_compatibility_version': '7.0.0'}, 'tagline': 'You Know, for Search'})"
      ]
     },
     "execution_count": 4,
     "metadata": {},
     "output_type": "execute_result"
    }
   ],
   "source": [
    "e_client = Elasticsearch('http://localhost:9200')\n",
    "\n",
    "e_client.info()"
   ]
  },
  {
   "cell_type": "code",
   "execution_count": 5,
   "metadata": {},
   "outputs": [],
   "source": [
    "index_name =  \"cloud-comparative-guide\""
   ]
  },
  {
   "cell_type": "code",
   "execution_count": 6,
   "metadata": {},
   "outputs": [],
   "source": [
    "def elastic_search_knn(field,vector):\n",
    "\n",
    "    knn = {\n",
    "        \"field\" : field,\n",
    "        \"query_vector\" : vector,\n",
    "        \"k\" : 5,\n",
    "        \"num_candidates\" : 10000\n",
    "    }\n",
    "\n",
    "    search_query = {\n",
    "    \"knn\": knn,\n",
    "    \"_source\" : [\"Service_Type\",\"Link_to_Documentation\",\"Google_Cloud_Product\",\"Google_Cloud_Product_Description\",\"AWS_Offering\",'Azure_Offering','Id']\n",
    "   \n",
    "   }\n",
    "    es_results = e_client.search(\n",
    "         index=index_name,\n",
    "         body=search_query,\n",
    "        \n",
    "   )\n",
    "\n",
    "\n",
    "    result_docs = []\n",
    "\n",
    "    for hit in es_results['hits']['hits']:\n",
    "        result_docs.append(hit['_source'])\n",
    "\n",
    "    return result_docs"
   ]
  },
  {
   "cell_type": "code",
   "execution_count": 16,
   "metadata": {},
   "outputs": [],
   "source": [
    "def vector_knn(q):\n",
    "    question = q['question']\n",
    "\n",
    "    v_q = embedded_model.encode(question)\n",
    "\n",
    "    return elastic_search_knn('Text_Vector',v_q)"
   ]
  },
  {
   "cell_type": "code",
   "execution_count": 8,
   "metadata": {},
   "outputs": [],
   "source": [
    "df_ground_truth = pd.read_csv('../data/ground-truth-data.csv')\n",
    "ground_truth = df_ground_truth.to_dict(orient='records')"
   ]
  },
  {
   "cell_type": "code",
   "execution_count": 9,
   "metadata": {},
   "outputs": [
    {
     "data": {
      "text/plain": [
       "{'question': 'What are the key differences in the zero trust security features between Chrome Enterprise Premium and similar offerings from AWS and Azure?',\n",
       " 'Google_Cloud_Product': 'Chrome Enterprise Premium',\n",
       " 'document_id': '40b23873859451847af0143acb81838c'}"
      ]
     },
     "execution_count": 9,
     "metadata": {},
     "output_type": "execute_result"
    }
   ],
   "source": [
    "ground_truth[0]"
   ]
  },
  {
   "cell_type": "code",
   "execution_count": 17,
   "metadata": {},
   "outputs": [
    {
     "data": {
      "text/plain": [
       "[{'Google_Cloud_Product_Description': 'Run more secure and compliant workloads on Google Cloud.',\n",
       "  'Link_to_Documentation': 'https://cloud.google.com/assured-workloads',\n",
       "  'Google_Cloud_Product': 'Assured Workloads',\n",
       "  'Azure_Offering': 'Azure Government',\n",
       "  'Service_Type': 'Regulated services',\n",
       "  'Id': '8c86f3a3e52325cc7b9e23dbecf3a9b9',\n",
       "  'AWS_Offering': 'AWS GovCloud'},\n",
       " {'Google_Cloud_Product_Description': 'Use global network firewall policies and regional network firewall policies to achieve a zero-trust network posture using a fully-distributed, cloud-first firewall service.',\n",
       "  'Link_to_Documentation': 'https://cloud.google.com/firewall/docs/about-firewalls',\n",
       "  'Google_Cloud_Product': 'Cloud Next Generation Firewall Essentials',\n",
       "  'Azure_Offering': 'Azure Firewall',\n",
       "  'Service_Type': 'Firewall',\n",
       "  'Id': 'a05690af1e904d4c8032a3c0369ca58d',\n",
       "  'AWS_Offering': 'AWS Network Firewall'},\n",
       " {'Google_Cloud_Product_Description': 'Provide data sovereignty controls for Google Cloud workloads in the European Union (EU).',\n",
       "  'Link_to_Documentation': 'https://cloud.google.com/assured-workloads/docs/eu-sovereign-controls-restrictions-limitations',\n",
       "  'Google_Cloud_Product': 'Sovereign Controls for EU',\n",
       "  'Azure_Offering': 'Microsoft Cloud for Sovereignty',\n",
       "  'Service_Type': 'Compliance and data sovereignty',\n",
       "  'Id': '6730440dadb67e42ed0ecd549d9d2235',\n",
       "  'AWS_Offering': 'AWS European Sovereign Cloud'},\n",
       " {'Google_Cloud_Product_Description': 'A fully customizable, managed development environment with built-in security that is provisioned in your VPC network on Google Cloud.',\n",
       "  'Link_to_Documentation': 'https://cloud.google.com/workstations',\n",
       "  'Google_Cloud_Product': 'Cloud Workstations',\n",
       "  'Azure_Offering': 'GitHub Codespaces',\n",
       "  'Service_Type': 'Development environment',\n",
       "  'Id': '542da48101e825057a25d216487bf742',\n",
       "  'AWS_Offering': 'AWS Cloud9'},\n",
       " {'Google_Cloud_Product_Description': 'A VMware-as-a-service platform that lets you migrate and run your VMware workloads on Google Cloud. It uses a global VPC design, optimizes your ownership costs, and provides high resiliency.',\n",
       "  'Link_to_Documentation': 'https://cloud.google.com/vmware-engine',\n",
       "  'Google_Cloud_Product': 'Google Cloud VMware Engine',\n",
       "  'Azure_Offering': 'Azure VMware Solution',\n",
       "  'Service_Type': 'VMware connectivity',\n",
       "  'Id': '88404afe31585bf5d3f6a6ea17377881',\n",
       "  'AWS_Offering': 'VMware Cloud on AWS'}]"
      ]
     },
     "execution_count": 17,
     "metadata": {},
     "output_type": "execute_result"
    }
   ],
   "source": [
    "vector_knn(ground_truth[0])"
   ]
  },
  {
   "cell_type": "code",
   "execution_count": 18,
   "metadata": {},
   "outputs": [],
   "source": [
    "def hit_rate(relevance_total):\n",
    "    cnt = 0\n",
    "\n",
    "    for line in relevance_total:\n",
    "        if True in line:\n",
    "            cnt = cnt + 1\n",
    "\n",
    "    return cnt / len(relevance_total)"
   ]
  },
  {
   "cell_type": "code",
   "execution_count": 19,
   "metadata": {},
   "outputs": [],
   "source": [
    "def mrr(relevance_total):\n",
    "    total_score = 0.0\n",
    "\n",
    "    for line in relevance_total:\n",
    "        for rank in range(len(line)):\n",
    "            if line[rank] == True:\n",
    "                total_score = total_score + 1 / (rank + 1)\n",
    "\n",
    "    return total_score / len(relevance_total)"
   ]
  },
  {
   "cell_type": "code",
   "execution_count": 22,
   "metadata": {},
   "outputs": [],
   "source": [
    "def evaluate(ground_truth,search_function):\n",
    "    relevance_total = []\n",
    "\n",
    "    for q in tqdm(ground_truth):\n",
    "        doc_id = q['document_id']\n",
    "        results = search_function(q)\n",
    "        relevance = [d['Id'] == doc_id for d in results]\n",
    "        relevance_total.append(relevance)\n",
    "\n",
    "    return {\n",
    "        'hit_rate': hit_rate(relevance_total),\n",
    "        'mrr': mrr(relevance_total),\n",
    "    }"
   ]
  },
  {
   "cell_type": "code",
   "execution_count": 23,
   "metadata": {},
   "outputs": [
    {
     "name": "stderr",
     "output_type": "stream",
     "text": [
      "100%|██████████| 1101/1101 [00:34<00:00, 31.46it/s]\n"
     ]
    },
    {
     "data": {
      "text/plain": [
       "{'hit_rate': 0.5431425976385105, 'mrr': 0.4016197396306383}"
      ]
     },
     "execution_count": 23,
     "metadata": {},
     "output_type": "execute_result"
    }
   ],
   "source": [
    "evaluate(ground_truth,vector_knn)"
   ]
  },
  {
   "cell_type": "code",
   "execution_count": 43,
   "metadata": {},
   "outputs": [
    {
     "data": {
      "text/plain": [
       "ObjectApiResponse({'acknowledged': True, 'shards_acknowledged': True, 'index': 'comparative-guide-vector'})"
      ]
     },
     "execution_count": 43,
     "metadata": {},
     "output_type": "execute_result"
    }
   ],
   "source": [
    "index_name = \"comparative-guide-vector\"\n",
    "\n",
    "index_settings = {\n",
    "    \"settings\": {\n",
    "        \"number_of_shards\": 1,\n",
    "        \"number_of_replicas\": 0\n",
    "    },\n",
    "    \"mappings\": {\n",
    "        \"properties\": {\n",
    "            \"Service_Category\": {\"type\": \"text\"},\n",
    "            \"Service_Type\": {\"type\": \"text\"},\n",
    "            \"Link_to_Documentation\": {\"type\": \"text\"},\n",
    "            \"Google_Cloud_Product\": {\"type\": \"text\"},\n",
    "            \"Google_Cloud_Product_Description\": {\"type\": \"text\"},\n",
    "            \"AWS_Offering\": {\"type\": \"text\"},\n",
    "            \"Azure_Offering\": {\"type\": \"text\"},\n",
    "            \"Id\": {\"type\": \"keyword\"},\n",
    "            \"General_Vector\": {\"type\": \"dense_vector\",\"dims\": 768,\"index\": True,\"similarity\":\"cosine\"},\n",
    "\n",
    "\n",
    "        }\n",
    "    }\n",
    "}\n",
    "\n",
    "e_client.indices.delete(index=index_name,ignore_unavailable=True)\n",
    "e_client.indices.create(index=index_name,body=index_settings)"
   ]
  },
  {
   "cell_type": "code",
   "execution_count": 44,
   "metadata": {},
   "outputs": [
    {
     "data": {
      "text/plain": [
       "{'Service_Category': 'Security & identity',\n",
       " 'Service_Type': 'Zero trust & secure enterprise browser',\n",
       " 'Link_to_Documentation': 'https://chromeenterprise.google/products/chrome-enterprise-premium/',\n",
       " 'Google_Cloud_Product': 'Chrome Enterprise Premium',\n",
       " 'Google_Cloud_Product_Description': 'Enable secure access to critical applications and services, with integrated threat and data protection.',\n",
       " 'AWS_Offering': '',\n",
       " 'Azure_Offering': '',\n",
       " 'Id': '40b23873859451847af0143acb81838c'}"
      ]
     },
     "execution_count": 44,
     "metadata": {},
     "output_type": "execute_result"
    }
   ],
   "source": [
    "with open(\"../data/documents_id.json\",\"r\") as d_in:\n",
    "    documents = json.load(d_in)\n",
    "\n",
    "documents[0]"
   ]
  },
  {
   "cell_type": "code",
   "execution_count": 45,
   "metadata": {},
   "outputs": [
    {
     "name": "stderr",
     "output_type": "stream",
     "text": [
      "100%|██████████| 221/221 [00:04<00:00, 48.06it/s]\n"
     ]
    }
   ],
   "source": [
    "for doc in tqdm(documents):\n",
    "\n",
    "    \n",
    "    qt = doc[\"Service_Type\"] + ' ' + doc[\"Link_to_Documentation\"] + ' ' + doc[\"Google_Cloud_Product\"] + ' ' + doc[\"Google_Cloud_Product_Description\"] + ' ' + doc[\"AWS_Offering\"] + ' ' + doc['Azure_Offering']\n",
    "    doc['General_Vector'] = embedded_model.encode(qt)"
   ]
  },
  {
   "cell_type": "code",
   "execution_count": 46,
   "metadata": {},
   "outputs": [
    {
     "data": {
      "text/plain": [
       "{'Service_Category': 'Security & identity',\n",
       " 'Service_Type': 'Zero trust & secure enterprise browser',\n",
       " 'Link_to_Documentation': 'https://chromeenterprise.google/products/chrome-enterprise-premium/',\n",
       " 'Google_Cloud_Product': 'Chrome Enterprise Premium',\n",
       " 'Google_Cloud_Product_Description': 'Enable secure access to critical applications and services, with integrated threat and data protection.',\n",
       " 'AWS_Offering': '',\n",
       " 'Azure_Offering': '',\n",
       " 'Id': '40b23873859451847af0143acb81838c',\n",
       " 'General_Vector': array([ 1.07001308e-02, -3.17839696e-03,  1.25289215e-02, -1.29329525e-02,\n",
       "        -2.30601858e-02,  1.33294938e-02,  8.82174149e-02,  2.68973932e-02,\n",
       "         8.15159306e-02, -1.91053525e-02, -5.18506318e-02, -1.36517389e-02,\n",
       "         1.54298358e-02,  5.90137839e-02,  1.97247732e-02,  1.69134941e-02,\n",
       "         1.40672959e-02, -2.67079286e-02,  7.02679679e-02, -8.64985632e-04,\n",
       "        -1.61981639e-02, -1.98052488e-02, -3.95962261e-02, -2.81337667e-02,\n",
       "         5.79113327e-02, -5.14879525e-02,  3.59875746e-02, -2.92418338e-02,\n",
       "         2.93496512e-02,  1.77995004e-02,  2.50717998e-02, -6.32154616e-03,\n",
       "        -2.25836746e-02,  2.62052156e-02,  1.74986963e-06, -8.59282352e-03,\n",
       "         7.46305508e-04,  4.41736449e-03, -4.16501164e-02, -1.24273961e-02,\n",
       "        -8.23304523e-03,  5.22446260e-02, -1.20976977e-02,  1.15221730e-02,\n",
       "         4.04977836e-02,  2.28530597e-02,  2.76111625e-03,  2.58428808e-02,\n",
       "         3.44048142e-02,  8.70339107e-03, -2.20053941e-02,  2.72769593e-02,\n",
       "        -8.04343596e-02,  3.64904827e-03, -6.79679364e-02, -5.37811927e-02,\n",
       "         1.83964688e-02, -6.95885122e-02, -2.17046347e-02,  1.33538833e-02,\n",
       "         3.29414196e-02, -2.57862452e-02,  2.28468049e-02,  2.76196767e-02,\n",
       "         3.38935964e-02,  8.87860954e-02, -3.32221463e-02, -8.94732475e-02,\n",
       "        -1.32418610e-02,  1.05699543e-02, -9.03520267e-03,  4.03262563e-02,\n",
       "        -6.31614402e-03,  2.69229412e-02, -2.47721979e-03,  2.06527505e-02,\n",
       "         3.51236947e-02,  4.86151353e-02,  1.02459528e-02,  1.18065835e-03,\n",
       "        -8.95452593e-03,  1.26369912e-02, -1.40402205e-02, -3.47404252e-03,\n",
       "        -3.77312442e-03,  4.95517179e-02,  5.81727289e-02,  3.78004997e-03,\n",
       "        -5.08251321e-03,  2.96287630e-02, -7.79772829e-03, -2.00671889e-02,\n",
       "        -2.16357317e-03,  8.43643211e-04,  5.38683571e-02, -3.76642086e-02,\n",
       "        -1.54006444e-02,  2.16046255e-02, -1.99474432e-02,  5.38518615e-02,\n",
       "        -7.94115365e-02,  4.59287735e-03,  3.13472636e-02, -6.84691826e-03,\n",
       "        -6.44071214e-03, -4.96634981e-03,  1.81263257e-02, -8.16157535e-02,\n",
       "         9.76488218e-02,  1.60894748e-02,  7.46774226e-02,  5.03999460e-03,\n",
       "        -1.90454442e-02,  4.38407203e-03, -5.50378952e-03, -1.56922862e-02,\n",
       "         2.24314127e-02,  6.46740198e-02,  5.38485721e-02,  8.80947039e-02,\n",
       "         7.50628561e-02, -1.78551674e-03,  1.05967196e-02, -3.89926955e-02,\n",
       "        -6.14671111e-02,  3.95055395e-03, -2.59256661e-02, -2.85831243e-02,\n",
       "        -3.61408480e-02, -3.28993909e-02, -2.42126659e-02, -1.54234460e-02,\n",
       "        -2.49153264e-02, -3.64604359e-03, -1.32173188e-02,  6.37249425e-02,\n",
       "         3.05824373e-02, -1.79899540e-02, -3.88389751e-02, -1.77379157e-02,\n",
       "        -2.41375118e-02, -2.14780327e-02, -4.48825955e-02,  2.16123741e-03,\n",
       "         1.64190046e-02,  1.29540479e-02, -4.92317863e-02, -4.00274023e-02,\n",
       "        -3.14901676e-03,  1.85124427e-02, -3.89341041e-02, -8.85249302e-02,\n",
       "        -1.65727325e-02, -4.22287956e-02, -4.36861254e-02,  1.69943292e-02,\n",
       "        -6.25404855e-03, -7.44389594e-02, -2.51533594e-02,  3.31315808e-02,\n",
       "         3.69159854e-03, -2.47932319e-02, -4.22204882e-02,  1.32880304e-02,\n",
       "        -2.97327638e-02, -1.78138483e-02,  8.35151412e-03,  2.65774205e-02,\n",
       "        -8.74926522e-03, -6.76172748e-02, -4.18624505e-02,  3.79560329e-02,\n",
       "         1.66996177e-02, -2.75207907e-02,  7.97549635e-02,  2.77594067e-02,\n",
       "         4.39614709e-03, -3.06916144e-02, -7.92361349e-02,  3.34273581e-03,\n",
       "        -6.35361811e-03, -8.38676766e-02, -1.53915389e-02,  3.80338617e-02,\n",
       "        -1.02697301e-03, -4.34168521e-03,  6.23824913e-03,  2.39152126e-02,\n",
       "        -2.48731486e-03,  1.63346231e-02, -4.93181960e-06, -3.55833559e-03,\n",
       "         1.30596543e-02,  2.04598568e-02,  3.36410366e-02, -3.52559090e-02,\n",
       "        -3.94709781e-02, -7.31355771e-02, -3.05992123e-02,  1.85374683e-03,\n",
       "        -2.09402740e-02, -4.20991108e-02,  8.60977098e-02,  4.72466387e-02,\n",
       "         2.20122021e-02,  6.32288009e-02, -6.19915538e-02,  1.57747138e-02,\n",
       "        -8.92102048e-02,  4.05715127e-03, -4.71983291e-02,  6.47015264e-03,\n",
       "         2.63797194e-02, -1.83980763e-02,  1.02511337e-02, -1.84530411e-02,\n",
       "        -6.25536358e-03,  2.15888582e-02, -4.17121761e-02,  1.94062814e-02,\n",
       "        -1.92298573e-02, -3.42215449e-02,  6.51425356e-03, -3.63299325e-02,\n",
       "         1.37103861e-02,  1.03759358e-03, -1.93258822e-02,  2.51935031e-02,\n",
       "        -4.91970889e-02, -1.50288426e-04, -2.31029447e-02, -2.13166233e-02,\n",
       "        -1.30160563e-02,  4.86199446e-02, -1.52607437e-03, -1.33806169e-02,\n",
       "         1.69266872e-02,  7.78062791e-02, -3.84157933e-02, -6.94050640e-02,\n",
       "         2.37212628e-02, -3.22891254e-04,  2.81948280e-02, -2.00693333e-03,\n",
       "         3.68646309e-02,  1.77784692e-02,  1.31186955e-02, -3.78482771e-04,\n",
       "        -1.56167871e-03, -1.59967188e-02,  1.16604415e-03, -1.32815475e-02,\n",
       "         7.32082827e-03,  2.77152453e-02, -4.73461337e-02,  3.44222412e-02,\n",
       "         4.80186865e-02, -3.27626728e-02,  2.15191790e-03, -1.31003968e-02,\n",
       "         2.33357381e-02, -3.01255030e-03,  1.12089962e-02, -1.48698352e-02,\n",
       "        -5.41250743e-02, -4.48863767e-02,  3.13527994e-02, -3.16387229e-02,\n",
       "         5.73479906e-02, -3.56185697e-02,  1.61632672e-02,  8.93233418e-02,\n",
       "         2.11588647e-02, -1.66483838e-02, -1.99654959e-02, -5.45331575e-02,\n",
       "        -1.26459757e-02,  1.90727562e-02, -9.79820732e-03,  3.89907211e-02,\n",
       "        -1.29973935e-02,  2.16496419e-02,  3.21077220e-02,  2.94898078e-02,\n",
       "         1.58526525e-02, -4.81491210e-03,  5.22377595e-05,  5.34272715e-02,\n",
       "         1.10441558e-02,  3.87305655e-02, -1.13738969e-03, -2.34842300e-02,\n",
       "        -2.26063039e-02,  3.22747044e-02, -1.25651387e-02,  3.94607987e-03,\n",
       "        -4.00851406e-02,  5.81473224e-02,  1.73716452e-02, -1.07404729e-02,\n",
       "        -1.77525468e-02, -1.88022424e-02,  6.46102009e-03, -2.15651300e-02,\n",
       "         4.09079567e-02,  2.02458911e-03, -1.85821056e-02,  3.48237790e-02,\n",
       "         1.09882383e-02,  6.89874813e-02,  1.63520463e-02,  1.02400659e-02,\n",
       "        -5.25321998e-02, -9.46866442e-03,  2.16318164e-02,  2.92959381e-02,\n",
       "         1.49032829e-04,  6.06183298e-02, -2.40136869e-02, -1.46361021e-03,\n",
       "         2.24132513e-04,  4.29559126e-03, -1.07408557e-02, -2.94102225e-02,\n",
       "        -1.24444265e-03, -4.07771720e-03, -4.08464000e-02,  4.19672690e-02,\n",
       "        -3.60220484e-02, -7.72463158e-02, -2.71179210e-02,  4.75178175e-02,\n",
       "        -2.48198565e-02,  8.64853500e-04,  5.89407347e-02,  5.06558940e-02,\n",
       "        -3.58883366e-02,  1.01797525e-02,  5.54658324e-02, -5.67654036e-02,\n",
       "        -5.20400191e-03,  4.27826457e-02, -2.44348589e-02, -3.41795981e-02,\n",
       "         4.28175507e-03, -2.77713221e-03, -4.51224409e-02, -9.82372276e-03,\n",
       "        -1.10801486e-02, -1.44185200e-02, -1.28561892e-02,  5.66089414e-02,\n",
       "        -4.31721807e-02,  3.99011970e-02,  2.53699283e-04, -5.13824709e-02,\n",
       "        -5.69539629e-02, -1.71354897e-02, -1.12697547e-02, -2.03608461e-02,\n",
       "        -5.05100526e-02,  4.89704348e-02, -3.16422507e-02, -1.67631861e-02,\n",
       "        -2.06933282e-02, -3.69576216e-02,  3.37401889e-02,  6.25923058e-05,\n",
       "         1.77214723e-02,  1.61426291e-02, -1.71806589e-02,  1.16304038e-02,\n",
       "         3.79478447e-02,  1.44700408e-02, -4.69625741e-02, -5.55635020e-02,\n",
       "        -3.86742540e-02, -5.12569968e-04,  5.07199988e-02,  3.72460485e-02,\n",
       "        -2.35709790e-02,  5.08036790e-03, -8.24362971e-03,  1.47449244e-02,\n",
       "         1.57982521e-02,  5.09232879e-02, -1.26865888e-02,  2.67532170e-02,\n",
       "         3.49823423e-02, -5.05471751e-02,  1.50948921e-02,  4.36613783e-02,\n",
       "         6.44557104e-02, -2.81442441e-02,  5.09010069e-02, -4.30495888e-02,\n",
       "        -1.40159829e-02, -2.00332236e-02, -3.22673433e-02,  5.45678288e-02,\n",
       "         1.26983924e-02,  3.11215334e-02, -4.29153889e-02,  1.35877104e-02,\n",
       "        -5.03817666e-03,  1.46089382e-02,  8.47605988e-03, -4.41740453e-02,\n",
       "        -4.78000417e-02, -3.93186770e-02, -4.57644463e-02, -5.49314134e-02,\n",
       "        -4.48463997e-03,  1.39987115e-02,  2.82403696e-02, -4.61012125e-02,\n",
       "         2.04019342e-02,  5.24168462e-02,  1.07359197e-02,  1.42887039e-02,\n",
       "         7.42593557e-02,  1.30680334e-02, -6.00288738e-04,  5.89852594e-03,\n",
       "         5.94489835e-03, -1.23310350e-02,  1.87041108e-02,  1.92916300e-02,\n",
       "         2.57856231e-02, -2.41283495e-02, -5.69597259e-02,  4.49922547e-04,\n",
       "        -1.19685279e-02, -3.50109823e-02,  4.23785076e-02,  1.80631429e-02,\n",
       "         3.41355577e-02,  7.62889301e-03, -9.73282978e-02, -2.60971654e-02,\n",
       "        -8.33860785e-03, -1.92839317e-02,  1.77020449e-02,  4.68082093e-02,\n",
       "        -8.70156959e-02,  1.60772167e-02, -2.45453212e-02,  5.67333885e-02,\n",
       "        -4.71935198e-02, -4.58600707e-02,  3.30477543e-02, -5.42848743e-02,\n",
       "         1.21764615e-01, -8.42697769e-02,  1.46914655e-02, -2.69321110e-02,\n",
       "        -2.08218601e-02,  2.09747050e-02, -8.82071722e-03, -5.45750745e-02,\n",
       "         3.79312336e-02,  1.14922738e-02, -6.73532933e-02, -1.54788969e-02,\n",
       "         9.68315639e-03,  6.33642003e-02, -5.86860180e-02, -5.92922345e-02,\n",
       "        -1.85307544e-02,  4.90413830e-02, -5.11485748e-02, -4.81691770e-02,\n",
       "        -1.21512990e-02, -6.45562960e-03, -1.92039199e-02,  2.70216838e-02,\n",
       "        -1.74981747e-02,  2.53729057e-02,  1.53229553e-02,  3.84577736e-02,\n",
       "         6.70491997e-03,  1.78484283e-02, -2.09684670e-02,  1.25514209e-01,\n",
       "        -5.43242097e-02,  2.72073485e-02,  2.49702744e-02, -2.79882364e-02,\n",
       "         3.00103147e-02,  6.97399024e-03, -2.25020647e-02, -1.39885982e-02,\n",
       "         4.51891050e-02,  5.04966043e-02,  1.56468693e-02, -2.17886735e-03,\n",
       "        -3.47380638e-02,  9.58741922e-03,  2.64955238e-02, -1.02847791e-03,\n",
       "        -1.44563627e-03,  7.54695805e-03, -8.03280622e-03,  1.48158176e-02,\n",
       "         1.16560655e-02,  2.56597884e-02, -2.99298149e-02,  3.29102911e-02,\n",
       "         2.26362385e-02, -2.69601997e-02,  3.34320543e-03,  1.78850780e-03,\n",
       "        -2.41047125e-02,  2.11701915e-02,  6.66768029e-02, -3.95135693e-02,\n",
       "         4.22681719e-02,  4.10495363e-02, -9.00444202e-03, -3.82983610e-02,\n",
       "         1.42844243e-03, -2.85977200e-02, -6.40875567e-03,  4.67524156e-02,\n",
       "        -1.50798028e-02, -1.11856703e-02, -1.36768958e-03,  1.86206736e-02,\n",
       "         6.04516864e-02,  8.66446737e-03, -1.47788385e-02, -1.44679761e-02,\n",
       "        -4.59095351e-02,  4.74536046e-02, -3.28731760e-02, -3.90459113e-02,\n",
       "         2.49293409e-02,  8.78247768e-02, -4.27705832e-02, -4.50121276e-02,\n",
       "         2.40643267e-02, -2.43842471e-02, -2.01828778e-02, -6.84069246e-02,\n",
       "         2.30542454e-03, -1.41451098e-02,  1.58359725e-02,  2.93063149e-02,\n",
       "        -1.66214295e-02,  4.04475518e-02, -1.95836946e-02, -8.30488373e-03,\n",
       "        -1.95962526e-02,  3.35319042e-02, -5.54611124e-02, -4.92760546e-33,\n",
       "         1.04079479e-02,  6.48619724e-04, -3.72052640e-02, -1.05280727e-02,\n",
       "         3.69830281e-02,  4.06921692e-02, -3.49819008e-03,  1.59384869e-02,\n",
       "         2.00991030e-03, -2.74902210e-02, -1.04382327e-02,  2.89871618e-02,\n",
       "         4.14136387e-02,  1.13251815e-02,  8.64182191e-04,  3.35336430e-03,\n",
       "        -8.84227175e-03,  1.94273610e-02,  2.13811137e-02,  2.98580583e-02,\n",
       "         1.77728571e-02,  4.33806218e-02,  8.06157757e-03, -3.98986824e-02,\n",
       "         5.12419008e-02, -1.85101014e-02, -2.44681487e-05, -2.46289335e-02,\n",
       "        -7.33504212e-03, -3.59888673e-02, -2.47415733e-02,  2.20907424e-02,\n",
       "        -3.38958614e-02, -1.13042161e-01, -1.31186666e-02,  4.58675399e-02,\n",
       "        -5.54649252e-03, -2.78240815e-02,  3.38231847e-02, -1.77761074e-02,\n",
       "        -6.79462478e-02, -2.16865130e-02, -3.26215960e-02, -4.37989421e-02,\n",
       "        -1.43501675e-02, -1.22711034e-02,  1.49596285e-03, -1.61764026e-02,\n",
       "         2.98474240e-03, -1.32997951e-03,  2.88788173e-02, -4.10068147e-02,\n",
       "        -1.60793904e-02,  8.56098309e-02,  3.94027568e-02,  4.22575772e-02,\n",
       "        -3.21905389e-02, -5.47034740e-02,  1.71930157e-02,  1.06094256e-02,\n",
       "        -3.07962373e-02, -2.92474739e-02, -9.42236092e-03,  4.21373919e-02,\n",
       "        -3.91932204e-02,  3.63561697e-02, -7.18354136e-02, -3.23328227e-02,\n",
       "        -1.23712542e-02,  4.97329086e-02, -2.02741511e-02,  4.07705642e-02,\n",
       "        -1.21108880e-02,  4.22113622e-03, -9.05787051e-02,  3.77381663e-03,\n",
       "         1.67353414e-02,  4.14643176e-02,  1.36350393e-02, -3.10148601e-03,\n",
       "         3.39404419e-02, -6.01854436e-02,  9.76087246e-03,  3.26742567e-02,\n",
       "         5.68917347e-03, -4.98232171e-02, -5.89560159e-02, -8.00505280e-03,\n",
       "         1.90441813e-02,  7.02145696e-02, -6.81080073e-02,  2.77188011e-02,\n",
       "         2.84163444e-03,  1.64569996e-03,  4.10974175e-02,  2.30475161e-02,\n",
       "         1.71691384e-02, -1.25602055e-02,  5.54336701e-03, -3.00923567e-02,\n",
       "         3.79001186e-03,  3.65327578e-03,  1.32839999e-03,  8.87359306e-03,\n",
       "         7.76351523e-03, -2.79477127e-02,  4.86249663e-03, -5.94442002e-02,\n",
       "        -1.62789915e-02,  1.99707951e-02, -2.37299800e-02,  3.70596386e-02,\n",
       "        -1.47312377e-02, -3.89366187e-02, -3.76389846e-02, -2.88987681e-02,\n",
       "         4.96200994e-02,  9.48699713e-02,  9.14485194e-03,  2.10702680e-02,\n",
       "         1.74792316e-02, -1.66778490e-02,  7.88393337e-03, -8.83655995e-03,\n",
       "         1.24224443e-02,  3.86288092e-02,  1.13992644e-02, -1.83485840e-02,\n",
       "         1.08232303e-02,  3.15227024e-02,  2.07127966e-02, -3.66367064e-02,\n",
       "         2.52844416e-07, -1.19999796e-02,  1.54763740e-02,  5.21234423e-03,\n",
       "        -2.36870460e-02,  7.27658421e-02,  3.15026045e-02,  4.75639962e-02,\n",
       "         8.09896365e-02, -2.26523541e-02,  1.64614208e-02, -1.40182041e-02,\n",
       "        -1.35203619e-02, -1.84302758e-02, -4.18760581e-03,  3.86342555e-02,\n",
       "        -9.33526903e-02, -4.41158973e-02,  1.10698398e-02, -4.57583442e-02,\n",
       "         1.79015321e-03,  5.41725457e-02,  2.91289482e-03, -1.57774054e-02,\n",
       "        -2.57583652e-02,  2.20535137e-02,  2.85958294e-02, -2.49088407e-02,\n",
       "         8.02038331e-03,  2.58357506e-02, -5.93342260e-02, -5.83644211e-02,\n",
       "         1.64749414e-01, -1.57483127e-02,  3.63985226e-02,  4.01453301e-03,\n",
       "         4.00415659e-02, -1.44613171e-02,  1.05163813e-01,  4.57460154e-03,\n",
       "         6.21809177e-02,  6.76926225e-02, -1.03257403e-01,  4.85457294e-02,\n",
       "        -8.37935042e-03,  6.31436706e-02,  6.85825720e-02, -2.08934974e-02,\n",
       "         2.77085695e-02, -5.71139120e-02, -6.02503009e-02, -1.92917697e-02,\n",
       "         1.09101376e-02,  1.14278756e-02, -7.27849603e-02,  2.20346600e-02,\n",
       "        -1.60280988e-02, -2.86921989e-02,  3.36443819e-02,  1.73925571e-02,\n",
       "         2.83828415e-02,  3.66580905e-03,  1.91117115e-02,  3.43206413e-02,\n",
       "        -6.83237566e-03,  4.73104836e-03,  3.05410866e-02, -1.43998989e-03,\n",
       "         2.41776711e-34, -3.43241729e-02, -3.99404913e-02, -2.01142970e-02,\n",
       "        -1.93230361e-02,  4.89901565e-02, -2.47009993e-02, -1.14231529e-02,\n",
       "        -3.67195457e-02,  6.64872210e-03, -1.45097887e-02, -4.54279222e-02],\n",
       "       dtype=float32)}"
      ]
     },
     "execution_count": 46,
     "metadata": {},
     "output_type": "execute_result"
    }
   ],
   "source": [
    "documents[0]"
   ]
  },
  {
   "cell_type": "code",
   "execution_count": 47,
   "metadata": {},
   "outputs": [
    {
     "name": "stderr",
     "output_type": "stream",
     "text": [
      "100%|██████████| 221/221 [00:00<00:00, 363.67it/s]\n"
     ]
    }
   ],
   "source": [
    "for doc in tqdm(documents):\n",
    "    e_client.index(index=index_name,document=doc)"
   ]
  },
  {
   "cell_type": "code",
   "execution_count": 48,
   "metadata": {},
   "outputs": [],
   "source": [
    "def question_vector_knn(q):\n",
    "    question = q['question']\n",
    "\n",
    "    v_q = embedded_model.encode(question)\n",
    "\n",
    "    return elastic_search_knn('General_Vector',v_q)"
   ]
  },
  {
   "cell_type": "code",
   "execution_count": 49,
   "metadata": {},
   "outputs": [
    {
     "name": "stderr",
     "output_type": "stream",
     "text": [
      "100%|██████████| 1101/1101 [00:32<00:00, 34.28it/s]\n"
     ]
    },
    {
     "data": {
      "text/plain": [
       "{'hit_rate': 0.9009990917347865, 'mrr': 0.7837874659400551}"
      ]
     },
     "execution_count": 49,
     "metadata": {},
     "output_type": "execute_result"
    }
   ],
   "source": [
    "evaluate(ground_truth,question_vector_knn)"
   ]
  },
  {
   "cell_type": "code",
   "execution_count": null,
   "metadata": {},
   "outputs": [],
   "source": []
  }
 ],
 "metadata": {
  "kernelspec": {
   "display_name": "llm_project_env",
   "language": "python",
   "name": "python3"
  },
  "language_info": {
   "codemirror_mode": {
    "name": "ipython",
    "version": 3
   },
   "file_extension": ".py",
   "mimetype": "text/x-python",
   "name": "python",
   "nbconvert_exporter": "python",
   "pygments_lexer": "ipython3",
   "version": "3.11.7"
  }
 },
 "nbformat": 4,
 "nbformat_minor": 2
}
